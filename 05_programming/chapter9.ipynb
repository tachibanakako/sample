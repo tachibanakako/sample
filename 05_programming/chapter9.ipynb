{
 "cells": [
  {
   "cell_type": "code",
   "execution_count": 7,
   "id": "e0f1d58f",
   "metadata": {},
   "outputs": [
    {
     "name": "stdout",
     "output_type": "stream",
     "text": [
      "a\n",
      "y\n",
      "abcdefg\n",
      "vwxyz\n",
      "cfilo\n"
     ]
    }
   ],
   "source": [
    "s = \"abcdefghijklmnopqrstuvwxyz\"\n",
    "print(s[0])\n",
    "print(s[-2])\n",
    "print(s[0:7])\n",
    "print(s[-5:])\n",
    "print(s[2:15:3])"
   ]
  },
  {
   "cell_type": "code",
   "execution_count": 8,
   "id": "18487b5c",
   "metadata": {},
   "outputs": [
    {
     "name": "stdout",
     "output_type": "stream",
     "text": [
      "「にんてんどううどんてんに」は回文です！\n"
     ]
    }
   ],
   "source": [
    "s = \"にんてんどううどんてんに\"\n",
    "if s == s[::-1]:\n",
    "    print(f\"「{s}」は回文です！\")\n",
    "else:\n",
    "    print(f\"「{s}」は回文ではありません！\")"
   ]
  },
  {
   "cell_type": "code",
   "execution_count": null,
   "id": "d0b6e00a",
   "metadata": {},
   "outputs": [
    {
     "name": "stdout",
     "output_type": "stream",
     "text": [
      "['apple', 'banana', 'cherry']\n"
     ]
    }
   ],
   "source": [
    "numbers = [1, 2, 3, 4, 5]\n",
    "fruits = [\"apple\", \"banana\", \"cherry\"]\n",
    "mixed = [1, \"apple\", 3.14, True]\n",
    "empty_list = []\n",
    "\n",
    "print(fruits)"
   ]
  },
  {
   "cell_type": "code",
   "execution_count": 16,
   "id": "b07c687a",
   "metadata": {},
   "outputs": [
    {
     "name": "stdout",
     "output_type": "stream",
     "text": [
      "[1, 2, 3] [1, 2, 3] [1, 2, 3]\n"
     ]
    }
   ],
   "source": [
    "original = [1, 2, 3]\n",
    "copy1 = original[:]\n",
    "copy2 = list(original)\n",
    "copy3 = original.copy()\n",
    "\n",
    "print(copy1, copy2, copy3)"
   ]
  },
  {
   "cell_type": "code",
   "execution_count": 25,
   "id": "418b3fca",
   "metadata": {},
   "outputs": [
    {
     "name": "stdout",
     "output_type": "stream",
     "text": [
      "apple cherry\n",
      "['apple', 'grape', 'kiwipear', 'orange', 'cherry', 'mango']\n"
     ]
    }
   ],
   "source": [
    "fruits = [\"apple\", \"banana\", \"cherry\"]\n",
    "print(fruits[0], fruits[-1])\n",
    "fruits[1] = \"orange\"\n",
    "fruits.append(\"mango\")\n",
    "fruits.insert(1, \"grape\")\n",
    "fruits.insert(2, \"kiwi\" + \"pear\")\n",
    "\n",
    "print(fruits)"
   ]
  },
  {
   "cell_type": "code",
   "execution_count": 26,
   "id": "c6bfc64d",
   "metadata": {},
   "outputs": [
    {
     "name": "stdout",
     "output_type": "stream",
     "text": [
      "[1, 2, 3, 4, 5, 6] [1, 2, 3, 4, 5, 6]\n"
     ]
    }
   ],
   "source": [
    "list1 = [1, 2, 3]\n",
    "list2 = [4, 5, 6]\n",
    "combined = list1 + list2\n",
    "list1.extend(list2)\n",
    "\n",
    "print(combined, list1)"
   ]
  },
  {
   "cell_type": "code",
   "execution_count": null,
   "id": "f6625e7c",
   "metadata": {},
   "outputs": [
    {
     "name": "stdout",
     "output_type": "stream",
     "text": [
      "[1, 1, 2, 3, 4, 5, 9]\n"
     ]
    }
   ],
   "source": [
    "numbers = [3, 1, 4, 1, 5, 9, 2]\n",
    "numbers.sort()\n",
    "sorted_numbers = sorted(numbers, reverse=True)\n",
    "\n",
    "print(numbers)"
   ]
  },
  {
   "cell_type": "code",
   "execution_count": 19,
   "id": "9a2ee088",
   "metadata": {},
   "outputs": [
    {
     "name": "stdout",
     "output_type": "stream",
     "text": [
      "[2, 3] [1, 2, 3] [3, 4, 5] [5, 4, 3, 2, 1]\n"
     ]
    }
   ],
   "source": [
    "numbers = [1, 2, 3, 4, 5]\n",
    "print(numbers[1:3], numbers[:3], numbers[2:], numbers[::-1])"
   ]
  },
  {
   "cell_type": "code",
   "execution_count": 30,
   "id": "55643456",
   "metadata": {},
   "outputs": [
    {
     "name": "stdout",
     "output_type": "stream",
     "text": [
      "[2, 4, 6, 8, 10]\n"
     ]
    }
   ],
   "source": [
    "even_numbers = [x for x in range(1, 11) if x % 2 == 0]\n",
    "print(even_numbers)"
   ]
  },
  {
   "cell_type": "code",
   "execution_count": 31,
   "id": "dc92207c",
   "metadata": {},
   "outputs": [
    {
     "name": "stdout",
     "output_type": "stream",
     "text": [
      "dict_keys(['apple', 'banana', 'cherry']) dict_values([100, 200, 300]) dict_items([('apple', 100), ('banana', 200), ('cherry', 300)])\n"
     ]
    }
   ],
   "source": [
    "fruit_prices = {\"apple\": 100, \"banana\": 200, \"cherry\": 300}\n",
    "print(fruit_prices.keys(), fruit_prices.values(), fruit_prices.items())"
   ]
  }
 ],
 "metadata": {
  "kernelspec": {
   "display_name": ".venv",
   "language": "python",
   "name": "python3"
  },
  "language_info": {
   "codemirror_mode": {
    "name": "ipython",
    "version": 3
   },
   "file_extension": ".py",
   "mimetype": "text/x-python",
   "name": "python",
   "nbconvert_exporter": "python",
   "pygments_lexer": "ipython3",
   "version": "3.12.7"
  }
 },
 "nbformat": 4,
 "nbformat_minor": 5
}
