{
 "cells": [
  {
   "cell_type": "code",
   "execution_count": 12,
   "id": "40f413b9",
   "metadata": {},
   "outputs": [
    {
     "name": "stdout",
     "output_type": "stream",
     "text": [
      "送料は無料です\n",
      "送料込税込価格は11000円です\n"
     ]
    }
   ],
   "source": [
    "tax_excluded_price = int(input(\"税抜き価格を入力してください：\"))\n",
    "\n",
    "tax_rate = 0.10\n",
    "tax_included_price = (1 + tax_rate) * tax_excluded_price\n",
    "\n",
    "\n",
    "if tax_excluded_price >= 2000:\n",
    "    shipping_cost = 0\n",
    "    print(\"送料は無料です\")\n",
    "\n",
    "else:\n",
    "    shipping_cost = 350\n",
    "    print(f\"送料は{shipping_cost}円です\")\n",
    "\n",
    "total_price = tax_included_price + shipping_cost\n",
    "\n",
    "print(f\"送料込税込価格は{total_price:.0f}円です\")\n"
   ]
  }
 ],
 "metadata": {
  "kernelspec": {
   "display_name": ".venv",
   "language": "python",
   "name": "python3"
  },
  "language_info": {
   "codemirror_mode": {
    "name": "ipython",
    "version": 3
   },
   "file_extension": ".py",
   "mimetype": "text/x-python",
   "name": "python",
   "nbconvert_exporter": "python",
   "pygments_lexer": "ipython3",
   "version": "3.12.7"
  }
 },
 "nbformat": 4,
 "nbformat_minor": 5
}
